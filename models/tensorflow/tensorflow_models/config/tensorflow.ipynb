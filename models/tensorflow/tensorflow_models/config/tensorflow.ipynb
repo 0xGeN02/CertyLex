{
 "cells": [
  {
   "cell_type": "markdown",
   "id": "c79c7a02",
   "metadata": {},
   "source": [
    "# TensorFlow Model Testing\n",
    "This notebook tests TensorFlow installation and evaluates a simple model's accuracy on the MNIST dataset."
   ]
  },
  {
   "cell_type": "code",
   "execution_count": 1,
   "id": "3f662de1",
   "metadata": {},
   "outputs": [
    {
     "name": "stderr",
     "output_type": "stream",
     "text": [
      "2025-04-09 15:15:08.618610: I external/local_xla/xla/tsl/cuda/cudart_stub.cc:32] Could not find cuda drivers on your machine, GPU will not be used.\n",
      "2025-04-09 15:15:08.794226: I external/local_xla/xla/tsl/cuda/cudart_stub.cc:32] Could not find cuda drivers on your machine, GPU will not be used.\n",
      "2025-04-09 15:15:08.959875: E external/local_xla/xla/stream_executor/cuda/cuda_fft.cc:467] Unable to register cuFFT factory: Attempting to register factory for plugin cuFFT when one has already been registered\n",
      "WARNING: All log messages before absl::InitializeLog() is called are written to STDERR\n",
      "E0000 00:00:1744204509.107322   13426 cuda_dnn.cc:8579] Unable to register cuDNN factory: Attempting to register factory for plugin cuDNN when one has already been registered\n",
      "E0000 00:00:1744204509.149474   13426 cuda_blas.cc:1407] Unable to register cuBLAS factory: Attempting to register factory for plugin cuBLAS when one has already been registered\n",
      "W0000 00:00:1744204509.452000   13426 computation_placer.cc:177] computation placer already registered. Please check linkage and avoid linking the same target more than once.\n",
      "W0000 00:00:1744204509.452045   13426 computation_placer.cc:177] computation placer already registered. Please check linkage and avoid linking the same target more than once.\n",
      "W0000 00:00:1744204509.452049   13426 computation_placer.cc:177] computation placer already registered. Please check linkage and avoid linking the same target more than once.\n",
      "W0000 00:00:1744204509.452052   13426 computation_placer.cc:177] computation placer already registered. Please check linkage and avoid linking the same target more than once.\n",
      "2025-04-09 15:15:09.489782: I tensorflow/core/platform/cpu_feature_guard.cc:210] This TensorFlow binary is optimized to use available CPU instructions in performance-critical operations.\n",
      "To enable the following instructions: AVX2 FMA, in other operations, rebuild TensorFlow with the appropriate compiler flags.\n"
     ]
    }
   ],
   "source": [
    "import os\n",
    "import tensorflow as tf\n",
    "from tensorflow.keras.datasets import mnist\n",
    "from tensorflow.keras.models import Sequential\n",
    "from tensorflow.keras.layers import Dense, Flatten"
   ]
  },
  {
   "cell_type": "code",
   "execution_count": 2,
   "id": "10cbc68e",
   "metadata": {},
   "outputs": [],
   "source": [
    "# Suppress TensorFlow GPU warnings\n",
    "os.environ['TF_CPP_MIN_LOG_LEVEL'] = '2'"
   ]
  },
  {
   "cell_type": "code",
   "execution_count": 3,
   "id": "8486884a",
   "metadata": {},
   "outputs": [
    {
     "name": "stderr",
     "output_type": "stream",
     "text": [
      "E0000 00:00:1744204532.218357   13426 cuda_executor.cc:1228] INTERNAL: CUDA Runtime error: Failed call to cudaGetRuntimeVersion: Error loading CUDA libraries. GPU will not be used.: Error loading CUDA libraries. GPU will not be used.\n",
      "W0000 00:00:1744204532.221417   13426 gpu_device.cc:2341] Cannot dlopen some GPU libraries. Please make sure the missing libraries mentioned above are installed properly if you would like to use GPU. Follow the guide at https://www.tensorflow.org/install/gpu for how to download and setup the required libraries for your platform.\n",
      "Skipping registering GPU devices...\n"
     ]
    }
   ],
   "source": [
    "# Set memory growth for GPU\n",
    "physical_devices = tf.config.list_physical_devices('GPU')\n",
    "if physical_devices:\n",
    "    try:\n",
    "        for gpu in physical_devices:\n",
    "            tf.config.experimental.set_memory_growth(gpu, True)\n",
    "    except RuntimeError as e:\n",
    "        print(e)"
   ]
  },
  {
   "cell_type": "markdown",
   "id": "b1e46f9a",
   "metadata": {},
   "source": [
    "## Test TensorFlow Installation\n",
    "This function verifies that TensorFlow is installed and working correctly by performing a simple addition operation."
   ]
  },
  {
   "cell_type": "code",
   "execution_count": 4,
   "id": "0437434e",
   "metadata": {},
   "outputs": [
    {
     "name": "stdout",
     "output_type": "stream",
     "text": [
      "TensorFlow addition result: 8\n",
      "TensorFlow installation is working correctly.\n"
     ]
    }
   ],
   "source": [
    "def test_tensorflow_installation():\n",
    "    try:\n",
    "        a = tf.constant(5)\n",
    "        b = tf.constant(3)\n",
    "        c = tf.add(a, b)\n",
    "        print(f\"TensorFlow addition result: {c.numpy()}\")\n",
    "        print(\"TensorFlow installation is working correctly.\")\n",
    "    except Exception as e:\n",
    "        print(f\"TensorFlow installation test failed: {e}\")\n",
    "\n",
    "# Run the installation test\n",
    "test_tensorflow_installation()"
   ]
  },
  {
   "cell_type": "markdown",
   "id": "49102177",
   "metadata": {},
   "source": [
    "## Define the Model Testing Function\n",
    "This function evaluates a TensorFlow model on a given test dataset and checks if the accuracy meets a specified threshold."
   ]
  },
  {
   "cell_type": "code",
   "execution_count": 5,
   "id": "7fa4cd6d",
   "metadata": {},
   "outputs": [],
   "source": [
    "def test_model(model, test_dataset, threshold=0.9):\n",
    "    \"\"\"\n",
    "    Test a TensorFlow model on a given test dataset.\n",
    "\n",
    "    Parameters:\n",
    "        model (tf.keras.Model): The TensorFlow model to test.\n",
    "        test_dataset (tf.data.Dataset): Dataset for testing the model.\n",
    "        threshold (float): The accuracy threshold to determine success.\n",
    "\n",
    "    Returns:\n",
    "        float: The accuracy of the model on the test dataset.\n",
    "        bool: Whether the test passed the accuracy threshold.\n",
    "    \"\"\"\n",
    "    loss, accuracy = model.evaluate(test_dataset)\n",
    "    print(f\"Test Loss: {loss:.4f}, Test Accuracy: {accuracy:.4f}\")\n",
    "    return accuracy, accuracy >= threshold"
   ]
  },
  {
   "cell_type": "markdown",
   "id": "ed653f0f",
   "metadata": {},
   "source": [
    "## Load and Preprocess the MNIST Dataset\n",
    "The MNIST dataset is used for testing. The data is normalized to improve model performance."
   ]
  },
  {
   "cell_type": "code",
   "execution_count": 6,
   "id": "bab33137",
   "metadata": {},
   "outputs": [],
   "source": [
    "# Load MNIST dataset\n",
    "(x_train, y_train), (x_test, y_test) = mnist.load_data()\n",
    "x_train = x_train.astype('float32') / 255.0\n",
    "x_test = x_test.astype('float32') / 255.0\n",
    "\n",
    "# Create TensorFlow datasets\n",
    "train_dataset = tf.data.Dataset.from_tensor_slices((x_train, y_train)).batch(32)\n",
    "test_dataset = tf.data.Dataset.from_tensor_slices((x_test, y_test)).batch(32)"
   ]
  },
  {
   "cell_type": "markdown",
   "id": "e3aed540",
   "metadata": {},
   "source": [
    "## Define and Train the Model\n",
    "A simple feedforward neural network is created and trained on the MNIST training dataset."
   ]
  },
  {
   "cell_type": "code",
   "execution_count": 13,
   "id": "c2b85c95",
   "metadata": {},
   "outputs": [
    {
     "name": "stdout",
     "output_type": "stream",
     "text": [
      "Epoch 1/5\n"
     ]
    },
    {
     "name": "stderr",
     "output_type": "stream",
     "text": [
      "/home/xgen0-ubuntu/.cache/pypoetry/virtualenvs/tensorflow-models-Ij36o141-py3.11/lib/python3.11/site-packages/keras/src/layers/reshaping/flatten.py:37: UserWarning: Do not pass an `input_shape`/`input_dim` argument to a layer. When using Sequential models, prefer using an `Input(shape)` object as the first layer in the model instead.\n",
      "  super().__init__(**kwargs)\n"
     ]
    },
    {
     "name": "stdout",
     "output_type": "stream",
     "text": [
      "\u001b[1m1875/1875\u001b[0m \u001b[32m━━━━━━━━━━━━━━━━━━━━\u001b[0m\u001b[37m\u001b[0m \u001b[1m9s\u001b[0m 4ms/step - accuracy: 0.8795 - loss: 0.4300\n",
      "Epoch 2/5\n",
      "\u001b[1m1875/1875\u001b[0m \u001b[32m━━━━━━━━━━━━━━━━━━━━\u001b[0m\u001b[37m\u001b[0m \u001b[1m8s\u001b[0m 4ms/step - accuracy: 0.9618 - loss: 0.1316\n",
      "Epoch 3/5\n",
      "\u001b[1m1875/1875\u001b[0m \u001b[32m━━━━━━━━━━━━━━━━━━━━\u001b[0m\u001b[37m\u001b[0m \u001b[1m8s\u001b[0m 4ms/step - accuracy: 0.9751 - loss: 0.0857\n",
      "Epoch 4/5\n",
      "\u001b[1m1875/1875\u001b[0m \u001b[32m━━━━━━━━━━━━━━━━━━━━\u001b[0m\u001b[37m\u001b[0m \u001b[1m8s\u001b[0m 4ms/step - accuracy: 0.9827 - loss: 0.0618\n",
      "Epoch 5/5\n",
      "\u001b[1m1875/1875\u001b[0m \u001b[32m━━━━━━━━━━━━━━━━━━━━\u001b[0m\u001b[37m\u001b[0m \u001b[1m8s\u001b[0m 4ms/step - accuracy: 0.9875 - loss: 0.0470\n"
     ]
    },
    {
     "data": {
      "text/plain": [
       "<keras.src.callbacks.history.History at 0x7f03ef8944d0>"
      ]
     },
     "execution_count": 13,
     "metadata": {},
     "output_type": "execute_result"
    }
   ],
   "source": [
    "# Define the model\n",
    "model = Sequential([\n",
    "    Flatten(input_shape=(28, 28)),\n",
    "    Dense(128, activation='relu'),\n",
    "    Dense(10, activation='softmax')\n",
    "])\n",
    "\n",
    "# Compile the model\n",
    "model.compile(optimizer='adam', loss='sparse_categorical_crossentropy', metrics=['accuracy'])\n",
    "\n",
    "# Train the model\n",
    "model.fit(train_dataset, epochs=5)"
   ]
  },
  {
   "cell_type": "markdown",
   "id": "e8467aa4",
   "metadata": {},
   "source": [
    "## Test the Model\n",
    "Evaluate the model on the test dataset and check if it meets the accuracy threshold."
   ]
  },
  {
   "cell_type": "code",
   "execution_count": 14,
   "id": "89437fc4",
   "metadata": {},
   "outputs": [
    {
     "name": "stdout",
     "output_type": "stream",
     "text": [
      "\u001b[1m313/313\u001b[0m \u001b[32m━━━━━━━━━━━━━━━━━━━━\u001b[0m\u001b[37m\u001b[0m \u001b[1m1s\u001b[0m 2ms/step - accuracy: 0.9654 - loss: 0.1125\n",
      "Test Loss: 0.0960, Test Accuracy: 0.9696\n",
      "Model accuracy: 0.97, Passed: True\n"
     ]
    }
   ],
   "source": [
    "# Test the model\n",
    "accuracy, passed = test_model(model, test_dataset)\n",
    "print(f\"Model accuracy: {accuracy:.2f}, Passed: {passed}\")"
   ]
  }
 ],
 "metadata": {
  "kernelspec": {
   "display_name": "tensorflow-models-Ij36o141-py3.11 (3.11.5)",
   "language": "python",
   "name": "python3"
  },
  "language_info": {
   "codemirror_mode": {
    "name": "ipython",
    "version": 3
   },
   "file_extension": ".py",
   "mimetype": "text/x-python",
   "name": "python",
   "nbconvert_exporter": "python",
   "pygments_lexer": "ipython3",
   "version": "3.11.5"
  }
 },
 "nbformat": 4,
 "nbformat_minor": 5
}
