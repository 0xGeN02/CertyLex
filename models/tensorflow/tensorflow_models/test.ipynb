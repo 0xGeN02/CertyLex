{
 "cells": [
  {
   "cell_type": "markdown",
   "id": "c79c7a02",
   "metadata": {},
   "source": [
    "# TensorFlow Model Testing\n",
    "This notebook tests TensorFlow installation and evaluates a simple model's accuracy on the MNIST dataset."
   ]
  },
  {
   "cell_type": "code",
   "execution_count": null,
   "id": "10cbc68e",
   "metadata": {},
   "outputs": [],
   "source": [
    "# Suppress TensorFlow GPU warnings\n",
    "import os\n",
    "os.environ['TF_CPP_MIN_LOG_LEVEL'] = '2'\n",
    "\n",
    "import tensorflow as tf"
   ]
  },
  {
   "cell_type": "markdown",
   "id": "b1e46f9a",
   "metadata": {},
   "source": [
    "## Test TensorFlow Installation\n",
    "This function verifies that TensorFlow is installed and working correctly by performing a simple addition operation."
   ]
  },
  {
   "cell_type": "code",
   "execution_count": null,
   "id": "0437434e",
   "metadata": {},
   "outputs": [],
   "source": [
    "def test_tensorflow_installation():\n",
    "    try:\n",
    "        a = tf.constant(5)\n",
    "        b = tf.constant(3)\n",
    "        c = tf.add(a, b)\n",
    "        print(f\"TensorFlow addition result: {c.numpy()}\")\n",
    "        print(\"TensorFlow installation is working correctly.\")\n",
    "    except Exception as e:\n",
    "        print(f\"TensorFlow installation test failed: {e}\")\n",
    "\n",
    "# Run the installation test\n",
    "test_tensorflow_installation()"
   ]
  },
  {
   "cell_type": "markdown",
   "id": "49102177",
   "metadata": {},
   "source": [
    "## Define the Model Testing Function\n",
    "This function evaluates a TensorFlow model on a given test dataset and checks if the accuracy meets a specified threshold."
   ]
  },
  {
   "cell_type": "code",
   "execution_count": null,
   "id": "7fa4cd6d",
   "metadata": {},
   "outputs": [],
   "source": [
    "def test_model(model, test_dataset, threshold=0.9):\n",
    "    \"\"\"\n",
    "    Test a TensorFlow model on a given test dataset.\n",
    "\n",
    "    Parameters:\n",
    "        model (tf.keras.Model): The TensorFlow model to test.\n",
    "        test_dataset (tf.data.Dataset): Dataset for testing the model.\n",
    "        threshold (float): The accuracy threshold to determine success.\n",
    "\n",
    "    Returns:\n",
    "        float: The accuracy of the model on the test dataset.\n",
    "        bool: Whether the test passed the accuracy threshold.\n",
    "    \"\"\"\n",
    "    loss, accuracy = model.evaluate(test_dataset)\n",
    "    print(f\"Test Loss: {loss:.4f}, Test Accuracy: {accuracy:.4f}\")\n",
    "    return accuracy, accuracy >= threshold"
   ]
  },
  {
   "cell_type": "markdown",
   "id": "ed653f0f",
   "metadata": {},
   "source": [
    "## Load and Preprocess the MNIST Dataset\n",
    "The MNIST dataset is used for testing. The data is normalized to improve model performance."
   ]
  },
  {
   "cell_type": "code",
   "execution_count": null,
   "id": "bab33137",
   "metadata": {},
   "outputs": [],
   "source": [
    "from tensorflow.keras.datasets import mnist\n",
    "\n",
    "# Load MNIST dataset\n",
    "(x_train, y_train), (x_test, y_test) = mnist.load_data()\n",
    "x_train = x_train.astype('float32') / 255.0\n",
    "x_test = x_test.astype('float32') / 255.0\n",
    "\n",
    "# Create TensorFlow datasets\n",
    "train_dataset = tf.data.Dataset.from_tensor_slices((x_train, y_train)).batch(32)\n",
    "test_dataset = tf.data.Dataset.from_tensor_slices((x_test, y_test)).batch(32)"
   ]
  },
  {
   "cell_type": "markdown",
   "id": "e3aed540",
   "metadata": {},
   "source": [
    "## Define and Train the Model\n",
    "A simple feedforward neural network is created and trained on the MNIST training dataset."
   ]
  },
  {
   "cell_type": "code",
   "execution_count": null,
   "id": "c2b85c95",
   "metadata": {},
   "outputs": [],
   "source": [
    "from tensorflow.keras.models import Sequential\n",
    "from tensorflow.keras.layers import Dense, Flatten\n",
    "\n",
    "# Define the model\n",
    "model = Sequential([\n",
    "    Flatten(input_shape=(28, 28)),\n",
    "    Dense(128, activation='relu'),\n",
    "    Dense(10, activation='softmax')\n",
    "])\n",
    "\n",
    "# Compile the model\n",
    "model.compile(optimizer='adam', loss='sparse_categorical_crossentropy', metrics=['accuracy'])\n",
    "\n",
    "# Train the model\n",
    "model.fit(train_dataset, epochs=5)"
   ]
  },
  {
   "cell_type": "markdown",
   "id": "e8467aa4",
   "metadata": {},
   "source": [
    "## Test the Model\n",
    "Evaluate the model on the test dataset and check if it meets the accuracy threshold."
   ]
  },
  {
   "cell_type": "code",
   "execution_count": null,
   "id": "89437fc4",
   "metadata": {},
   "outputs": [],
   "source": [
    "# Test the model\n",
    "accuracy, passed = test_model(model, test_dataset)\n",
    "print(f\"Model accuracy: {accuracy:.2f}, Passed: {passed}\")"
   ]
  }
 ],
 "metadata": {
  "language_info": {
   "name": "python"
  }
 },
 "nbformat": 4,
 "nbformat_minor": 5
}
