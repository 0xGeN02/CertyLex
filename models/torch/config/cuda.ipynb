{
 "cells": [
  {
   "cell_type": "markdown",
   "id": "70bfd8f7",
   "metadata": {},
   "source": [
    "# Test the **CUDA** installation on the machine + enviroment"
   ]
  }
 ],
 "metadata": {
  "language_info": {
   "name": "python"
  }
 },
 "nbformat": 4,
 "nbformat_minor": 5
}
