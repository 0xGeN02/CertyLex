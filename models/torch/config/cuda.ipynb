{
 "cells": [
  {
   "cell_type": "markdown",
   "id": "70bfd8f7",
   "metadata": {},
   "source": [
    "# Verificación Avanzada de CUDA con PyTorch\n",
    "Este notebook verifica la instalación y compatibilidad de CUDA, mostrando información detallada de cada GPU detectada."
   ]
  },
  {
   "cell_type": "code",
   "execution_count": 1,
   "id": "dc30dfea",
   "metadata": {},
   "outputs": [],
   "source": [
    "import torch"
   ]
  },
  {
   "cell_type": "code",
   "execution_count": 2,
   "id": "9e33dea2",
   "metadata": {},
   "outputs": [
    {
     "name": "stdout",
     "output_type": "stream",
     "text": [
      "¡CUDA está disponible!\n",
      "Número de GPUs detectadas: 1\n",
      "GPU 0: NVIDIA GeForce RTX 3060 Laptop GPU\n",
      "Propiedades: _CudaDeviceProperties(name='NVIDIA GeForce RTX 3060 Laptop GPU', major=8, minor=6, total_memory=6143MB, multi_processor_count=30, uuid=af3a764f-1b98-c4f9-9db1-b78dd7d7a74b, L2_cache_size=3MB)\n"
     ]
    }
   ],
   "source": [
    "if torch.cuda.is_available():\n",
    "    print(\"¡CUDA está disponible!\")\n",
    "    print(f\"Número de GPUs detectadas: {torch.cuda.device_count()}\")\n",
    "    for i in range(torch.cuda.device_count()):\n",
    "        print(f\"GPU {i}: {torch.cuda.get_device_name(i)}\")\n",
    "        print(f\"Propiedades: {torch.cuda.get_device_properties(i)}\")\n",
    "else:\n",
    "    print(\"CUDA no está disponible. Verifica la instalación de los drivers y CUDA.\")"
   ]
  },
  {
   "cell_type": "code",
   "execution_count": 3,
   "id": "49104e04",
   "metadata": {},
   "outputs": [
    {
     "name": "stdout",
     "output_type": "stream",
     "text": [
      "Versión de CUDA utilizada por PyTorch: 12.4\n"
     ]
    }
   ],
   "source": [
    "# Información adicional: Verificar versión de CUDA según PyTorch\n",
    "try:\n",
    "    print(\"Versión de CUDA utilizada por PyTorch:\", torch.version.cuda)\n",
    "except Exception as e:\n",
    "    print(\"No se pudo obtener la versión de CUDA:\", e)"
   ]
  }
 ],
 "metadata": {
  "kernelspec": {
   "display_name": ".venv",
   "language": "python",
   "name": "python3"
  },
  "language_info": {
   "codemirror_mode": {
    "name": "ipython",
    "version": 3
   },
   "file_extension": ".py",
   "mimetype": "text/x-python",
   "name": "python",
   "nbconvert_exporter": "python",
   "pygments_lexer": "ipython3",
   "version": "3.13.2"
  }
 },
 "nbformat": 4,
 "nbformat_minor": 5
}
