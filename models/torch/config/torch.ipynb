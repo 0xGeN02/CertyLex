{
 "cells": [
  {
   "cell_type": "markdown",
   "id": "1907ee5d",
   "metadata": {},
   "source": [
    "# PyTorch Model Testing\n",
    "\n",
    "This notebook tests PyTorch installation and evaluates a model's accuracy on a dataset."
   ]
  },
  {
   "cell_type": "code",
   "execution_count": null,
   "id": "af29ce93",
   "metadata": {},
   "outputs": [],
   "source": [
    "import sys\n",
    "try:\n",
    "    import torch\n",
    "    from torch import nn\n",
    "    from torch.utils.data import DataLoader\n",
    "except ModuleNotFoundError as e:\n",
    "    raise ModuleNotFoundError( \" The 'torch' lib is no installed correctly\") from e\n",
    "\n",
    "try:\n",
    "    from torchvision import datasets, transforms\n",
    "    from torchvision.models import resnet18\n",
    "except ModuleNotFoundError as e:\n",
    "    raise ModuleNotFoundError( \" The 'torchvision' lib is no installed correctly\") from e"
   ]
  },
  {
   "cell_type": "markdown",
   "id": "335b0995",
   "metadata": {},
   "source": [
    "# Testing model from TorchVision"
   ]
  },
  {
   "cell_type": "code",
   "execution_count": null,
   "id": "0d24bae6",
   "metadata": {},
   "outputs": [],
   "source": [
    "def test_model(model: nn.Module, test_loader: torch.utils.data.DataLoader, device: torch.device, threshold: float = 90.0):\n",
    "    \"\"\"\n",
    "    Test a PyTorch model on a given test dataset.\n",
    "\n",
    "    Parameters:\n",
    "        model (nn.Module): The PyTorch model to test.\n",
    "        test_loader (DataLoader): DataLoader for the test dataset.\n",
    "        device (torch.device): The device to run the test on (CPU or GPU).\n",
    "        threshold (float): The accuracy threshold to determine success.u\n",
    "\n",
    "    Returns:\n",
    "        float: The accuracy of the model on the test dataset.\n",
    "        bool: Whether the test passed the accuracy threshold.\n",
    "    \"\"\"\n",
    "    model.eval()\n",
    "    model.to(device)\n",
    "    correct = 0\n",
    "    total = 0\n",
    "\n",
    "    with torch.no_grad():\n",
    "        for inputs, labels in test_loader:\n",
    "            inputs, labels = inputs.to(device), labels.to(device)\n",
    "            outputs = model(inputs)\n",
    "            _, predicted = torch.max(outputs, 1)\n",
    "            total += labels.size(0)\n",
    "            correct += (predicted == labels).sum().item()\n",
    "\n",
    "    model_accuracy = 100 * correct / total\n",
    "    print(f\"Test Accuracy: {model_accuracy:.2f}%\")\n",
    "    return model_accuracy, model_accuracy >= threshold"
   ]
  },
  {
   "cell_type": "code",
   "execution_count": null,
   "id": "2e2b787b",
   "metadata": {},
   "outputs": [],
   "source": [
    " # Use a pre-trained ResNet18 model for better performance\n",
    "NUM_CLASSES = 2  # Example number of output classes\n",
    "resnet_model = resnet18(weights='DEFAULT')  # Load the pre-trained model\n",
    "resnet_model.fc = nn.Linear(resnet_model.fc.in_features, NUM_CLASSES)  # Adjust the final layer"
   ]
  },
  {
   "cell_type": "code",
   "execution_count": null,
   "id": "80df8d3c",
   "metadata": {},
   "outputs": [],
   "source": [
    "# Update data preprocessing with normalization\n",
    "test_dataset = datasets.FakeData(\n",
    "    size=100,  # Example dataset size\n",
    "    image_size=(3, 224, 224),  # Image dimensions\n",
    "    num_classes=NUM_CLASSES,\n",
    "    transform=transforms.Compose([\n",
    "        transforms.ToTensor(),\n",
    "        transforms.Normalize(mean=[0.5, 0.5, 0.5], std=[0.5, 0.5, 0.5])  # Normalize images\n",
    "    ])\n",
    ")\n",
    "global_test_loader = DataLoader(test_dataset, batch_size=32)  # Renamed to avoid shadowing\n",
    "model_device = torch.device(\"cuda\" if torch.cuda.is_available() else \"cpu\")"
   ]
  },
  {
   "cell_type": "markdown",
   "id": "dfef16d8",
   "metadata": {},
   "source": [
    "### Try the test model"
   ]
  },
  {
   "cell_type": "code",
   "execution_count": null,
   "id": "3ce3b9ff",
   "metadata": {},
   "outputs": [],
   "source": [
    "accuracy, success = test_model(resnet_model, global_test_loader, model_device)\n",
    "if success:\n",
    "    print(\"Test passed successfully!\")\n",
    "    sys.exit(0)\n",
    "else:\n",
    "    print(\"Test failed.\")\n",
    "    sys.exit(1)"
   ]
  }
 ],
 "metadata": {
  "language_info": {
   "name": "python"
  }
 },
 "nbformat": 4,
 "nbformat_minor": 5
}
