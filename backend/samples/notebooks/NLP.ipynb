{
 "cells": [
  {
   "cell_type": "markdown",
   "id": "d0dc9d92",
   "metadata": {},
   "source": [
    "### 1. Imports"
   ]
  },
  {
   "cell_type": "code",
   "execution_count": 1,
   "id": "9d4bc330",
   "metadata": {},
   "outputs": [],
   "source": [
    "import sys\n",
    "import os\n",
    "\n",
    "# En notebooks usamos os.getcwd() en lugar de __file__\n",
    "project_root = os.path.abspath(os.path.join(os.getcwd(), '../../'))\n",
    "if project_root not in sys.path:\n",
    "    sys.path.insert(0, project_root)"
   ]
  },
  {
   "cell_type": "code",
   "execution_count": 29,
   "id": "b3b8041e",
   "metadata": {},
   "outputs": [],
   "source": [
    "import re\n",
    "from transformers import pipeline\n",
    "from stdnum.es import nif\n",
    "from lib.language.regex import nif_detector, name_detector, nif_empresa_detector"
   ]
  },
  {
   "cell_type": "markdown",
   "id": "fb696484",
   "metadata": {},
   "source": [
    "### 2. Texto de test"
   ]
  },
  {
   "cell_type": "code",
   "execution_count": 27,
   "id": "6f66f0dc",
   "metadata": {},
   "outputs": [],
   "source": [
    "texto_prueba = \"\"\"ACTA DE REUNIÓN DE PERSONAL - EMPRESA INDUSTRIAS GLOBALES S.A.\n",
    "\n",
    "En la ciudad de Madrid, a 9 de abril de 2025, siendo las 09:00 horas, se reunieron en la sala de conferencias de la sede central de Industrias Globales S.A. con NIF: A12345671 los siguientes empleados para tratar asuntos relacionados con la reestructuración del departamento de logística:\n",
    "\n",
    "María del Carmen Rodríguez Pérez, con DNI 49665075W, jefa de operaciones logísticas.\n",
    "\n",
    "Juan Ignacio Fernández López, con DNI 50439827P, supervisor de almacenes regionales.\n",
    "\n",
    "Lucía Martínez Hidalgo, con DNI 71234567R, coordinadora de transporte y rutas.\n",
    "\n",
    "Carlos Alberto Suárez Gómez, con DNI 33112233S, jefe de planificación estratégica.\n",
    "\n",
    "Ana Sofía Gutiérrez Llamas, con DNI 77654321B, responsable de relaciones sindicales.\n",
    "\n",
    "Pedro José Álvarez Domínguez, con DNI 12345678C, técnico senior en procesos logísticos.\n",
    "\n",
    "Elena Beatriz Mendoza Ruiz, con DNI 46579813L, especialista en control de calidad.\n",
    "\n",
    "José Luis Ramírez Ortega, con DNI 89456123F, representante del comité de empresa.\n",
    "\n",
    "Laura Isabel Sánchez Mora, con DNI 46090352P, auxiliar administrativa.\n",
    "\n",
    "Francisco Javier Torres Blanco, con DNI 67389214T, analista de datos operativos.\n",
    "\n",
    "Durante la sesión, también se mencionaron a otros empleados que no estuvieron presentes pero cuyos casos fueron discutidos:\n",
    "\n",
    "Mónica Pilar Nieto Salas, DNI 22889977A, actualmente en comisión de servicio en la sede de Valencia.\n",
    "\n",
    "Miguel Ángel Ruiz Terrón, DNI 55993145D, asignado temporalmente al proyecto internacional de Lisboa.\n",
    "\n",
    "Sandra Milena Castro Ramírez, DNI 83729164N, quien solicitó excedencia por estudios.\n",
    "\n",
    "Se estableció que la próxima sesión de revisión operativa se llevará a cabo el 22 de abril de 2025. El acta fue revisada y aprobada por:\n",
    "\n",
    "Diego Fernando Herrera Solís, DNI 39567812E, director general de logística.\n",
    "\n",
    "Beatriz Carolina Núñez Rivas, DNI 33273427-V, secretaria ejecutiva del departamento.\n",
    "\n",
    "Sin más asuntos que tratar, se dio por finalizada la reunión a las 11:45 horas del mismo día.\"\"\""
   ]
  },
  {
   "cell_type": "markdown",
   "id": "d9c39ec9",
   "metadata": {},
   "source": [
    "### 3. Detect con funciones propias"
   ]
  },
  {
   "cell_type": "code",
   "execution_count": null,
   "id": "c4b28705",
   "metadata": {},
   "outputs": [
    {
     "name": "stdout",
     "output_type": "stream",
     "text": [
      "Nombres detectados (librería propia):\n",
      "['de Madrid', 'de Industrias Globales', 'María del Carmen Rodríguez Pérez', 'Juan Ignacio Fernández López', 'Lucía Martínez Hidalgo', 'Carlos Alberto Suárez Gómez', 'Ana Sofía Gutiérrez Llamas', 'Pedro José Álvarez Domínguez', 'Elena Beatriz Mendoza Ruiz', 'José Luis Ramírez Ortega', 'Laura Isabel Sánchez Mora', 'Francisco Javier Torres Blanco', 'Mónica Pilar Nieto Salas', 'de Valencia', 'Miguel Ángel Ruiz Terrón', 'de Lisboa', 'Sandra Milena Castro Ramírez', 'Diego Fernando Herrera Solís', 'Beatriz Carolina Núñez Rivas']\n",
      "\n",
      "NIFs detectados (librería propia):\n",
      "['49665075W', '46090352P', '33273427V']\n",
      "\n",
      "NIFs detectados (empresa lib propia):\n",
      "['A12345671']\n"
     ]
    }
   ],
   "source": [
    "print(\"Nombres detectados (librería propia):\")\n",
    "nombres_propios = name_detector(texto_prueba)\n",
    "print(nombres_propios)\n",
    "\n",
    "print(\"\\nNIFs detectados (librería propia):\")\n",
    "nifs_propios = nif_detector(texto_prueba)\n",
    "print(nifs_propios) # Solo pilla los que se asegure que los num % 23 == letra esperada\n",
    "\n",
    "print(\"\\nNIFs empresa  detectados (lib propia):\")\n",
    "nif_empresa = nif_empresa_detector(texto_prueba)\n",
    "print(nif_empresa)"
   ]
  },
  {
   "cell_type": "markdown",
   "id": "fee1108c",
   "metadata": {},
   "source": [
    "### 4. Detect de nombres con Bert"
   ]
  },
  {
   "cell_type": "code",
   "execution_count": 8,
   "id": "631b0c3d",
   "metadata": {},
   "outputs": [
    {
     "name": "stderr",
     "output_type": "stream",
     "text": [
      "Some weights of the model checkpoint at mrm8488/bert-spanish-cased-finetuned-ner were not used when initializing BertForTokenClassification: ['bert.pooler.dense.bias', 'bert.pooler.dense.weight']\n",
      "- This IS expected if you are initializing BertForTokenClassification from the checkpoint of a model trained on another task or with another architecture (e.g. initializing a BertForSequenceClassification model from a BertForPreTraining model).\n",
      "- This IS NOT expected if you are initializing BertForTokenClassification from the checkpoint of a model that you expect to be exactly identical (initializing a BertForSequenceClassification model from a BertForSequenceClassification model).\n",
      "Device set to use cuda:0\n",
      "Asking to truncate to max_length but no maximum length is provided and the model has no predefined maximum length. Default to no truncation.\n"
     ]
    },
    {
     "name": "stdout",
     "output_type": "stream",
     "text": [
      "Resultados de NER con Hugging Face:\n",
      "{'entity_group': 'PER', 'score': np.float32(0.9997549), 'word': 'María del Carmen Rodríguez Pérez', 'start': 335, 'end': 367}\n",
      "{'entity_group': 'PER', 'score': np.float32(0.9996547), 'word': 'Juan Ignacio Fernández López', 'start': 421, 'end': 449}\n",
      "{'entity_group': 'PER', 'score': np.float32(0.9997978), 'word': 'Lucía Martínez Hidalgo', 'start': 507, 'end': 529}\n",
      "{'entity_group': 'PER', 'score': np.float32(0.99979824), 'word': 'Carlos Alberto Suárez Gómez', 'start': 587, 'end': 614}\n",
      "{'entity_group': 'PER', 'score': np.float32(0.99975026), 'word': 'Ana Sofía Gutiérrez Llamas', 'start': 671, 'end': 697}\n",
      "{'entity_group': 'PER', 'score': np.float32(0.99962443), 'word': 'Pedro José Álvarez Domínguez', 'start': 757, 'end': 785}\n",
      "{'entity_group': 'PER', 'score': np.float32(0.99977684), 'word': 'Elena Beatriz Mendoza Ruiz', 'start': 846, 'end': 872}\n",
      "{'entity_group': 'PER', 'score': np.float32(0.9996145), 'word': 'José Luis Ramírez Ortega', 'start': 930, 'end': 954}\n",
      "{'entity_group': 'PER', 'score': np.float32(0.999793), 'word': 'Laura Isabel Sánchez Mora', 'start': 1013, 'end': 1038}\n",
      "{'entity_group': 'PER', 'score': np.float32(0.9997707), 'word': 'Francisco Javier Torres Blanco', 'start': 1085, 'end': 1115}\n",
      "{'entity_group': 'PER', 'score': np.float32(0.99979126), 'word': 'Mónica Pilar Nieto Salas', 'start': 1292, 'end': 1316}\n",
      "{'entity_group': 'PER', 'score': np.float32(0.9996896), 'word': 'Miguel Ángel Ruiz Terrón', 'start': 1394, 'end': 1418}\n",
      "{'entity_group': 'PER', 'score': np.float32(0.9997864), 'word': 'Sandra Milena Castro Ramírez', 'start': 1496, 'end': 1524}\n",
      "{'entity_group': 'PER', 'score': np.float32(0.9997783), 'word': 'Diego Fernando Herrera Solís', 'start': 1720, 'end': 1748}\n",
      "{'entity_group': 'PER', 'score': np.float32(0.9997844), 'word': 'Beat', 'start': 1797, 'end': 1801}\n",
      "{'entity_group': 'PER', 'score': np.float32(0.99955), 'word': '##riz Carolina Núñez Rivas', 'start': 1801, 'end': 1825}\n"
     ]
    }
   ],
   "source": [
    "# Crea un pipeline para NER usando un modelo en español\n",
    "ner_pipeline = pipeline(\"ner\", model=\"mrm8488/bert-spanish-cased-finetuned-ner\", aggregation_strategy=\"simple\")\n",
    "\n",
    "# Ejecuta la detección de entidades en el texto de prueba\n",
    "ner_results = ner_pipeline(texto_prueba)\n",
    "\n",
    "print(\"Resultados de NER con Hugging Face:\")\n",
    "for entity in ner_results:\n",
    "    if entity['entity_group'] == 'PER':\n",
    "        print(entity)"
   ]
  },
  {
   "cell_type": "markdown",
   "id": "6a7288ce",
   "metadata": {},
   "source": [
    "### 5. Detect de NIF con python-stdnum"
   ]
  },
  {
   "cell_type": "code",
   "execution_count": 25,
   "id": "e68d7fe9",
   "metadata": {},
   "outputs": [
    {
     "name": "stdout",
     "output_type": "stream",
     "text": [
      "\n",
      "NIFs validados con python-stdnum:\n",
      "['49665075W']\n"
     ]
    }
   ],
   "source": [
    "print(\"\\nNIFs validados con python-stdnum:\")\n",
    "# Extraer posibles NIFs con regex básica (para pasar al validador)\n",
    "posibles_nifs = re.findall(r'\\d{8}[A-Z]', texto_prueba)\n",
    "\n",
    "nifs_validos = []\n",
    "for posible_nif in posibles_nifs:\n",
    "    if nif.is_valid(posible_nif):\n",
    "        nifs_validos.append(posible_nif)\n",
    "\n",
    "print(nifs_validos)"
   ]
  },
  {
   "cell_type": "markdown",
   "id": "48a0d7c8",
   "metadata": {},
   "source": [
    "### 6. Comparacion"
   ]
  },
  {
   "cell_type": "code",
   "execution_count": 33,
   "id": "fc80a15f",
   "metadata": {},
   "outputs": [
    {
     "name": "stdout",
     "output_type": "stream",
     "text": [
      "\n",
      "--- COMPARACIÓN ---\n",
      "Nombres detectados (propios): 19\n",
      "Nombres detectados (NER): 16\n",
      "NIFs detectados (propios): 3\n",
      "NIFs válidos (stdnum): 1\n",
      "NIFs empresa detectados (propios): 1\n",
      "Nombres de empresa detectados (NER): 1\n",
      "Nombre de empresa segun NER: ['Industrias Globales S. A']\n"
     ]
    }
   ],
   "source": [
    "print(\"\\n--- COMPARACIÓN ---\")\n",
    "print(f\"Nombres detectados (propios): {len(nombres_propios)}\")\n",
    "print(f\"Nombres detectados (NER): {len([entity for entity in ner_results if entity['entity_group'] == 'PER'])}\")\n",
    "print(f\"NIFs detectados (propios): {len(nifs_propios)}\")\n",
    "print(f\"NIFs válidos (stdnum): {len(nifs_validos)}\")\n",
    "print(f\"NIFs empresa detectados (propios): {len(nif_empresa)}\")\n",
    "print(f\"Nombres de empresa detectados (NER): {len([entity for entity in ner_results if entity['entity_group'] == 'ORG'])}\")\n",
    "print(f\"Nombre de empresa segun NER: {[entity['word'] for entity in ner_results if entity['entity_group'] == 'ORG']}\")"
   ]
  },
  {
   "cell_type": "markdown",
   "id": "3c1ab0c9",
   "metadata": {},
   "source": [
    "## Resolucion\n",
    "\n",
    "A continuación, se explica la estrategia elegida para extraer información del texto:\n",
    "\n",
    "1. Detección de nombres de personas:\n",
    "\n",
    "Se utilizará un modelo NER (por ejemplo, con Hugging Face) para identificar entidades del tipo \"PER\". Este método estadístico es robusto al contexto y las variaciones en la forma en que se escriben los nombres.\n",
    "Posteriormente, se ejecutará la función propia name_detector (basada en expresiones regulares o reglas) para confirmar o complementar los nombres identificados. Esta combinación permite mejorar la precisión de la extracción al aprovechar lo mejor de ambos enfoques.\n",
    "\n",
    "2. Extracción de DNI:\n",
    "\n",
    "Para obtener los DNI, se opta por emplear únicamente la función nif_detector. Esta función ha demostrado ser más efectiva que una solución basada en expresiones regulares simples, ya que no solo extrae el patrón, sino que también valida el dígito de control según la norma.\n",
    "\n",
    "2. Detección del nombre de empresa:\n",
    "\n",
    "La identificación del nombre de la empresa se realizará utilizando el mismo modelo NER, pero filtrando aquellas entidades clasificadas como \"ORG\". Este método permite detectar de manera más confiable nombres de organizaciones, dada la complejidad y variedad de formatos que pueden presentar.\n",
    "\n",
    "Esta solución híbrida aprovecha la capacidad de los modelos de lenguaje para contextualizar y detectar entidades relevantes (nombres de persona y empresas) mientras se confía en una función especializada y verificada para la extracción y validación de DNI."
   ]
  }
 ],
 "metadata": {
  "kernelspec": {
   "display_name": "certylex-api-alMeepAk-py3.12 (3.12.9)",
   "language": "python",
   "name": "python3"
  },
  "language_info": {
   "codemirror_mode": {
    "name": "ipython",
    "version": 3
   },
   "file_extension": ".py",
   "mimetype": "text/x-python",
   "name": "python",
   "nbconvert_exporter": "python",
   "pygments_lexer": "ipython3",
   "version": "3.12.9"
  }
 },
 "nbformat": 4,
 "nbformat_minor": 5
}
