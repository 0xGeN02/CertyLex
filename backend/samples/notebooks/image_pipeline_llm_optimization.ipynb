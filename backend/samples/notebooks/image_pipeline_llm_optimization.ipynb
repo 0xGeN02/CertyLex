{
 "cells": [
  {
   "cell_type": "markdown",
   "id": "9a8120c8",
   "metadata": {},
   "source": [
    "# Image Pipeline Optimization Across Multiple LLM Models\n",
    "This notebook applies the image processing pipeline and hyperparameter optimization using different LLM models (Llama3.2-vision:11b, deepseekr1:8b, deepseekr1:14b) via Ollama."
   ]
  },
  {
   "cell_type": "code",
   "execution_count": 3,
   "id": "function",
   "metadata": {},
   "outputs": [],
   "source": [
    "# tested in python >= 3.12, < 3.13, use main pyproject.toml\n",
    "import os\n",
    "import sys\n",
    "\n",
    "project_root = os.path.abspath(os.path.join(os.getcwd(), '../../'))\n",
    "if project_root not in sys.path:\n",
    "    sys.path.insert(0, project_root)"
   ]
  },
  {
   "cell_type": "code",
   "execution_count": 6,
   "id": "9371c640",
   "metadata": {},
   "outputs": [],
   "source": [
    "# Imports and setup\n",
    "import cv2\n",
    "import numpy as np\n",
    "import matplotlib.pyplot as plt\n",
    "from lib.image.llm_pipeline import build_pipeline, optimize_pipeline, evaluate_image_quality\n",
    "from lib.image.pipeline import process_image\n",
    "# Ollama client\n",
    "from ollama import chat"
   ]
  },
  {
   "cell_type": "code",
   "execution_count": null,
   "id": "34cb7aa0",
   "metadata": {},
   "outputs": [],
   "source": [
    "# Define LLM models to test\n",
    "models = [\n",
    "    \"llama3.2-vision:11b\",\n",
    "    \"deepseekr1:8b\",\n",
    "    \"deepseekr1:14b\"\n",
    "]\n",
    "\n",
    "# Parameter search space\n",
    "param_space = {\n",
    "    \"denoise\": {\"h\": [5, 10, 15], \"template_window\": [3, 7]},\n",
    "    \"contrast\": {\"alpha\": [1.0, 1.2, 1.5], \"beta\": [0, 10, 20]},\n",
    "    \"resize\": {\"width\": [800, 1024, 1280]},\n",
    "    \"clahe\": {\"clipLimit\": [1.0, 2.0], \"tileGrid\": [(8,8)]},\n",
    "    \"crop\": {\"margin\": [0, 5, 10]}\n",
    "}"
   ]
  },
  {
   "cell_type": "code",
   "execution_count": null,
   "id": "4bbfb8e1",
   "metadata": {},
   "outputs": [],
   "source": [
    "# Define the LLM adjustment callback\n",
    "def llm_adjust_callback(data, model_name):\n",
    "    prompt = f\"\"\"La imagen procesada tiene métricas:\n",
    "- Reducción de blur: {data['metrics']['blur_reduction']:.2f}\n",
    "- Ganancia OCR: {data['metrics']['ocr_gain']}\n",
    "\n",
    "Original params: {data['params']}\n",
    "\n",
    "Sugiere nuevos hiperparámetros para mejorar la calidad de la imagen.\"\"\"\n",
    "    response = chat(model=model_name, prompt=prompt)\n",
    "    # Here you would parse the response back into a params dict\n",
    "    # For now, return original params\n",
    "    return data['params']"
   ]
  },
  {
   "cell_type": "code",
   "execution_count": null,
   "id": "cb5355d5",
   "metadata": {},
   "outputs": [],
   "source": [
    "# Load an example image\n",
    "orig = cv2.imread('ruta/a/tu/imagen.jpg')\n",
    "results = {}\n",
    "\n",
    "for model_name in models:\n",
    "    best = optimize_pipeline(orig, param_space, lambda d: llm_adjust_callback(d, model_name), max_iter=3)\n",
    "    results[model_name] = best\n",
    "\n",
    "# Display results\n",
    "for model_name, res in results.items():\n",
    "    print(f\"Model: {model_name}, Score: {res['metrics']['score']}\")\n",
    "    fig, (ax1, ax2) = plt.subplots(1, 2, figsize=(10,5))\n",
    "    ax1.imshow(cv2.cvtColor(orig, cv2.COLOR_BGR2RGB))\n",
    "    ax1.set_title('Original')\n",
    "    ax1.axis('off')\n",
    "    ax2.imshow(cv2.cvtColor(res['image'], cv2.COLOR_BGR2RGB))\n",
    "    ax2.set_title(f\"Processed by {model_name}\")\n",
    "    ax2.axis('off')\n",
    "    plt.show()"
   ]
  }
 ],
 "metadata": {
  "kernelspec": {
   "display_name": "certylex-api-o2NBLT6Z-py3.12 (3.12.10)",
   "language": "python",
   "name": "python3"
  },
  "language_info": {
   "codemirror_mode": {
    "name": "ipython",
    "version": 3
   },
   "file_extension": ".py",
   "mimetype": "text/x-python",
   "name": "python",
   "nbconvert_exporter": "python",
   "pygments_lexer": "ipython3",
   "version": "3.12.10"
  }
 },
 "nbformat": 4,
 "nbformat_minor": 5
}
